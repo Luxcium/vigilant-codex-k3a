{
 "cells": [
  {
   "cell_type": "markdown",
   "id": "bd580e3b",
   "metadata": {},
   "source": [
    "# Core Graph Elements\n",
    "**Objectives:**  \n",
    "- Understand State, Node, Edge, Start/End points  \n",
    "- Learn Tools & ToolNodes  \n",
    "- Build and compile a simple StateGraph  \n",
    "- Review message types (Human, AI, System, Tool, Function)"
   ]
  },
  {
   "cell_type": "markdown",
   "id": "ec1ff000",
   "metadata": {},
   "source": [
    "%pip install langchain --quiet\n",
    "\n",
    "from typing import TypedDict\n",
    "from langraph import StateGraph, ToolNode\n",
    "from langchain.schema import HumanMessage, AIMessage, SystemMessage, ToolMessage\n",
    "## State\n",
    "A `State` is a shared data structure for carrying context through nodes."
   ]
  },
  {
   "cell_type": "code",
   "execution_count": null,
   "id": "d7fa69fb",
   "metadata": {},
   "outputs": [],
   "source": [
    "class AgentState(TypedDict):\n",
    "    counter: int\n",
    "\n",
    "state: AgentState = { 'counter': 0 }\n",
    "print(state)"
   ]
  },
  {
   "cell_type": "markdown",
   "id": "3519a279",
   "metadata": {},
   "source": [
    "## Node\n",
    "A Node is a Python function that takes and returns the state."
   ]
  },
  {
   "cell_type": "code",
   "execution_count": null,
   "id": "43608ee2",
   "metadata": {},
   "outputs": [],
   "source": [
    "def increment_node(state: AgentState) -> AgentState:\n",
    "    \"\"\"Increment the counter by 1.\"\"\"\n",
    "    state['counter'] += 1\n",
    "    return state\n",
    "\n",
    "# Test:\n",
    "state = increment_node(state)\n",
    "print(state)"
   ]
  },
  {
   "cell_type": "markdown",
   "id": "1687c1c4",
   "metadata": {},
   "source": [
    "## Edge\n",
    "Connect nodes by directing state flow: `graph.add_edge(from, to)`."
   ]
  },
  {
   "cell_type": "code",
   "execution_count": null,
   "id": "0b8c6eed",
   "metadata": {},
   "outputs": [],
   "source": [
    "from langraph import Edge # (will be used when building the graph below)"
   ]
  },
  {
   "cell_type": "markdown",
   "id": "667fcdd2",
   "metadata": {},
   "source": [
    "## Start and End Points\n",
    "Define where execution begins and finishes."
   ]
  },
  {
   "cell_type": "code",
   "execution_count": null,
   "id": "1006b755",
   "metadata": {},
   "outputs": [],
   "source": [
    "graph = StateGraph(AgentState)\n",
    "graph.set_entry_point('start')\n",
    "graph.set_finish_point('end')"
   ]
  },
  {
   "cell_type": "markdown",
   "id": "1d89b88b",
   "metadata": {},
   "source": [
    "## Tools & ToolNode\n",
    "Tools are external utilities; wrap them in a ToolNode."
   ]
  },
  {
   "cell_type": "code",
   "execution_count": null,
   "id": "71cdf307",
   "metadata": {},
   "outputs": [],
   "source": [
    "def sample_tool(x: int) -> int:\n",
    "    \"\"\"Example tool: squares its input.\"\"\"\n",
    "    return x * x\n",
    "\n",
    "tool_node = ToolNode(name='square_tool', tool=sample_tool)"
   ]
  },
  {
   "cell_type": "markdown",
   "id": "c87ef58d",
   "metadata": {},
   "source": [
    "## StateGraph & Runnable\n",
    "Build, compile, and invoke your graph."
   ]
  },
  {
   "cell_type": "code",
   "execution_count": null,
   "id": "dd8726d5",
   "metadata": {},
   "outputs": [],
   "source": [
    "# Add nodes and edges\n",
    "graph.add_node('increment', increment_node)\n",
    "graph.add_node('square', tool_node)\n",
    "graph.add_edge('start', 'increment')\n",
    "graph.add_edge('increment', 'square')\n",
    "graph.add_edge('square', 'end')\n",
    "\n",
    "# Compile and run\n",
    "app = graph.compile()\n",
    "result = app.invoke(counter=0)\n",
    "print('Final state:', result)"
   ]
  },
  {
   "cell_type": "markdown",
   "id": "4732c97d",
   "metadata": {},
   "source": [
    "## Message Types\n",
    "- `HumanMessage`: user input  "
   ]
  },
  {
   "cell_type": "code",
   "execution_count": null,
   "id": "9c6379ac",
   "metadata": {},
   "outputs": [],
   "source": [
    "print(HumanMessage(content='Hello'))\n",
    "print(AIMessage(content='Hi there!'))\n",
    "print(SystemMessage(content='You are an assistant.'))\n",
    "print(ToolMessage(content='42', tool_call='answer'))"
   ]
  },
  {
   "cell_type": "markdown",
   "id": "c8a4bd46",
   "metadata": {},
   "source": [
    "## Visualize Graph\n",
    "Render the node connections."
   ]
  },
  {
   "cell_type": "code",
   "execution_count": null,
   "id": "e2ec4243",
   "metadata": {},
   "outputs": [],
   "source": [
    "from graphviz import Digraph\n",
    "\n",
    "dot = Digraph()\n",
    "dot.node('start'); dot.node('increment'); dot.node('square'); dot.node('end')\n",
    "dot.edges(['startincrement', 'incrementsquare', 'squareend'])\n",
    "dot"
   ]
  },
  {
   "cell_type": "markdown",
   "id": "503fba67",
   "metadata": {},
   "source": [
    "### Exercise\n",
    "Build a two-node graph that takes `counter` from 0 to 2:\n",
    "1. Node A: +1  \n",
    "2. Node B: +1  \n",
    "Compile and invoke to verify `counter == 2`."
   ]
  },
  {
   "cell_type": "code",
   "execution_count": null,
   "id": "3dc681be",
   "metadata": {},
   "outputs": [],
   "source": [
    "# TODO: define nodes A and B, add edges, compile & invoke"
   ]
  },
  {
   "cell_type": "code",
   "execution_count": null,
   "id": "09be8b1e",
   "metadata": {},
   "outputs": [],
   "source": [
    "def node_a(s): s['counter'] += 1; return s\n",
    "def node_b(s): s['counter'] += 1; return s\n",
    "g = StateGraph(AgentState)\n",
    "g.set_entry_point('A'); g.add_node('A', node_a)\n",
    "g.add_edge('A', 'B'); g.add_node('B', node_b)\n",
    "g.set_finish_point('B')\n",
    "app = g.compile()\n",
    "print(app.invoke(counter=0))  # {'counter': 2}"
   ]
  }
 ],
 "metadata": {
  "kernelspec": {
   "display_name": ".venv (3.13.3)",
   "language": "python",
   "name": "python3"
  },
  "language_info": {
   "codemirror_mode": {
    "name": "ipython",
    "version": 3
   },
   "file_extension": ".py",
   "mimetype": "text/x-python",
   "name": "python",
   "nbconvert_exporter": "python",
   "pygments_lexer": "ipython3",
   "version": "3.13.5"
  }
 },
 "nbformat": 4,
 "nbformat_minor": 5
}
