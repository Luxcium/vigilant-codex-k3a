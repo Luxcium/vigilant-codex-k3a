{
 "cells": [
  {
   "cell_type": "markdown",
   "id": "c52ad819",
   "metadata": {},
   "source": [
    "# OpenAI API Prototyping Notebook\n",
    "\n",
    "This notebook provides a stepwise, well-documented environment for prototyping with the OpenAI API.\n",
    "\n",
    "- **API Key Management:** The OpenAI API key is loaded securely from a `.env` file using `python-dotenv`.\n",
    "- **Documentation:** Each step is explained in detail, with references to this chat and other OpenAI API examples in the [../README.md](../README.md).\n",
    "- **Reproducibility:** The workflow follows project standards for reproducibility and documentation.\n",
    "\n",
    "> **References:**\n",
    "> - This notebook was created as part of a guided session ([see chat log](../../memory-bank/activeContext.md)).\n",
    "> - See [../README.md](../README.md) for additional OpenAI API examples and integration notes."
   ]
  },
  {
   "cell_type": "markdown",
   "id": "d94b0e81",
   "metadata": {},
   "source": [
    "## Notebook Structure & Workflow\n",
    "\n",
    "1. **Environment Setup**: Load environment variables and required packages\n",
    "2. **API Key Validation**: Ensure OpenAI API key is loaded securely\n",
    "3. **OpenAI API Integration**: Example API call and response handling\n",
    "4. **Stepwise Prototyping**: Iterative logic and documentation for each experiment\n",
    "5. **References & Documentation**: Cross-links to chat and README\n",
    "\n",
    "---"
   ]
  },
  {
   "cell_type": "code",
   "execution_count": 4,
   "id": "b12ae691",
   "metadata": {},
   "outputs": [
    {
     "name": "stdout",
     "output_type": "stream",
     "text": [
      "✅ OpenAI API key loaded from .env.\n"
     ]
    }
   ],
   "source": [
    "# --- Environment Setup ---\n",
    "import os\n",
    "from dotenv import load_dotenv\n",
    "\n",
    "# Load environment variables from .env file\n",
    "load_dotenv()\n",
    "\n",
    "# Retrieve OpenAI API key\n",
    "OPENAI_API_KEY = os.getenv('OPENAI_API_KEY')\n",
    "\n",
    "# Check if API key is loaded\n",
    "if not OPENAI_API_KEY:\n",
    "    raise ValueError(\"OpenAI API key not found. Please set OPENAI_API_KEY in your .env file.\")\n",
    "else:\n",
    "    print(\"✅ OpenAI API key loaded from .env.\")"
   ]
  },
  {
   "cell_type": "markdown",
   "id": "e08c59f2",
   "metadata": {},
   "source": [
    "### Step 1: Environment Setup\n",
    "\n",
    "- Imports required packages (`os`, `dotenv`)\n",
    "- Loads environment variables from `.env`\n",
    "- Retrieves and validates the `OPENAI_API_KEY`\n",
    "- Raises an error if the key is missing, otherwise confirms successful loading\n",
    "\n",
    "> **Tip:** Ensure your `.env` file is in the project root and contains a line like `OPENAI_API_KEY=sk-...`"
   ]
  },
  {
   "cell_type": "markdown",
   "id": "f21752b9",
   "metadata": {},
   "source": [
    "### Step 2: OpenAI API Integration\n",
    "\n",
    "- Import the `openai` package\n",
    "- Configure the API key\n",
    "- Make a simple test call to the OpenAI API (e.g., list available models)\n",
    "- Display the response for verification\n",
    "\n",
    "> **Note:** This step demonstrates secure API usage and basic OpenAI API interaction."
   ]
  },
  {
   "cell_type": "code",
   "execution_count": 5,
   "id": "2c63e704",
   "metadata": {},
   "outputs": [
    {
     "name": "stdout",
     "output_type": "stream",
     "text": [
      "✅ OpenAI API call successful. 83 models available.\n",
      "- gpt-4-0613\n",
      "- gpt-4\n",
      "- gpt-3.5-turbo\n"
     ]
    }
   ],
   "source": [
    "# --- OpenAI API Integration: List Models ---\n",
    "import openai\n",
    "\n",
    "# Set API key for openai package\n",
    "openai.api_key = OPENAI_API_KEY\n",
    "\n",
    "# Test: List available models\n",
    "try:\n",
    "    models = openai.models.list()\n",
    "    model_list = list(models)\n",
    "    print(f\"✅ OpenAI API call successful. {len(model_list)} models available.\")\n",
    "    # Display first 3 models as a sample\n",
    "    for m in model_list[:3]:\n",
    "        print(f\"- {m.id}\")\n",
    "except Exception as e:\n",
    "    print(f\"❌ OpenAI API call failed: {e}\")"
   ]
  },
  {
   "cell_type": "markdown",
   "id": "b7192023",
   "metadata": {},
   "source": [
    "### Step 3: Stepwise Prototyping\n",
    "\n",
    "- Use this section to iteratively prototype and document OpenAI API logic\n",
    "- Each experiment should:\n",
    "  - Clearly state its goal\n",
    "  - Document input, output, and logic\n",
    "  - Reference relevant documentation or chat context\n",
    "\n",
    "> **Example:** Next, we will create a simple prompt completion using the OpenAI API."
   ]
  },
  {
   "cell_type": "code",
   "execution_count": 6,
   "id": "07b0026e",
   "metadata": {},
   "outputs": [
    {
     "name": "stdout",
     "output_type": "stream",
     "text": [
      "Prompt: What are three key benefits of using Jupyter notebooks for data science?\n",
      "\n",
      "Completion:\n",
      "Three key benefits of using Jupyter notebooks for data science are:\n",
      "\n",
      "1. Interactive Data Exploration: Jupyter notebooks allow data scientists to interactively explore and analyze data by running code in small chunks and visualizing results immediately. This interactive nature makes it easier to experiment with different data manipulation and visualization techniques.\n"
     ]
    }
   ],
   "source": [
    "# --- Example: Simple Prompt Completion (OpenAI >= 1.0.0) ---\n",
    "from typing import Optional\n",
    "\n",
    "prompt = \"What are three key benefits of using Jupyter notebooks for data science?\"\n",
    "\n",
    "try:\n",
    "    response = openai.chat.completions.create(\n",
    "        model=\"gpt-3.5-turbo\",\n",
    "        messages=[\n",
    "            {\"role\": \"system\", \"content\": \"You are a helpful assistant.\"},\n",
    "            {\"role\": \"user\", \"content\": prompt}\n",
    "        ],\n",
    "        max_tokens=60,\n",
    "        temperature=0.5\n",
    "    )\n",
    "    output: Optional[str] = response.choices[0].message.content.strip() if response.choices else None\n",
    "    print(f\"Prompt: {prompt}\\n\\nCompletion:\\n{output}\")\n",
    "except Exception as e:\n",
    "    print(f\"❌ OpenAI completion failed: {e}\")"
   ]
  },
  {
   "cell_type": "markdown",
   "id": "7b530309",
   "metadata": {},
   "source": [
    "### Step 4: References & Documentation\n",
    "\n",
    "- This notebook was created as part of a guided session ([see chat log](../../memory-bank/activeContext.md)).\n",
    "- For more OpenAI API examples and integration notes, see [../README.md](../README.md).\n",
    "- Follow project standards for documentation, reproducibility, and secure credential management.\n",
    "\n",
    "---\n",
    "\n",
    "> **Next Steps:**\n",
    "> - Add more prototyping cells as needed\n",
    "> - Document each experiment thoroughly\n",
    "> - Update the README with references to this notebook and related resources"
   ]
  },
  {
   "cell_type": "markdown",
   "id": "66b31657",
   "metadata": {},
   "source": [
    "---\n",
    "\n",
    "## Prototyping Checklist\n",
    "\n",
    "- [x] API key loaded securely from `.env`\n",
    "- [x] Environment and dependencies documented\n",
    "- [x] Stepwise logic and results explained\n",
    "- [x] References to chat and README included\n",
    "- [ ] Additional experiments documented\n",
    "- [ ] Results reproducible in clean environment\n",
    "\n",
    "> For more details, see [python-notebook-standards.instructions.md](../../.github/instructions/python-notebook-standards.instructions.md)"
   ]
  }
 ],
 "metadata": {
  "kernelspec": {
   "display_name": ".venv (3.13.3)",
   "language": "python",
   "name": "python3"
  },
  "language_info": {
   "codemirror_mode": {
    "name": "ipython",
    "version": 3
   },
   "file_extension": ".py",
   "mimetype": "text/x-python",
   "name": "python",
   "nbconvert_exporter": "python",
   "pygments_lexer": "ipython3",
   "version": "3.13.3"
  }
 },
 "nbformat": 4,
 "nbformat_minor": 5
}
