{
 "cells": [
  {
   "cell_type": "markdown",
   "id": "ddb57b4f",
   "metadata": {},
   "source": [
    "# Why Type Annotations Matter\n",
    "In this notebook, you will learn why type annotations enhance code readability, maintainability, and reliability.\n",
    "\n",
    "**What you’ll cover:** dict vs TypedDict, Union, Optional, Any, lambda\n"
   ]
  },
  {
   "cell_type": "markdown",
   "id": "1d997489",
   "metadata": {},
   "source": [
    "## 1. Basic dict vs TypedDict\n",
    "\n",
    "**Pros:**\n",
    "- Plain `dict` is flexible but lacks type safety.\n",
    "- `TypedDict` provides structure and IDE support.\n",
    "\n",
    "**Cons:**\n",
    "- `dict` can contain wrong key/values without warnings.\n",
    "- `TypedDict` requires Python 3.8+ and additional boilerplate."
   ]
  },
  {
   "cell_type": "code",
   "execution_count": null,
   "id": "54018c36",
   "metadata": {},
   "outputs": [],
   "source": [
    "from typing import TypedDict\n",
    "\n",
    "# Plain dict\n",
    " ,\n",
    "cells\n",
    "metadata\n",
    "source\n",
    "In this notebook, you will learn why type annotations enhance code readability, maintainability, and reliability.\n",
    "\n",
    "**What you’ll cover:** dict vs TypedDict, Union, Optional, Any, lambda"
   ]
  },
  {
   "cell_type": "markdown",
   "id": "7624698f",
   "metadata": {},
   "source": [
    "## 1. Basic dict vs TypedDict\n",
    "\n",
    "**Pros:**\n",
    "- Plain `dict` is flexible but lacks type safety.\n",
    "- `TypedDict` provides structure and IDE support.\n",
    "\n",
    "**Cons:**\n",
    "- `dict` can contain wrong key/values without warnings.\n",
    "- `TypedDict` requires Python 3.8+ and additional boilerplate."
   ]
  },
  {
   "cell_type": "code",
   "execution_count": null,
   "id": "306de5db",
   "metadata": {},
   "outputs": [],
   "source": [
    "from typing import TypedDict\n",
    "\n",
    "# Plain dict\n",
    "user_dict = {'name': 'Alice', 'age': 30}\n",
    "print(user_dict)\n",
    "\n",
    "# Define TypedDict\n",
    "class User(TypedDict):\n",
    "    name: str\n",
    "    age: int\n",
    "\n",
    "# Instantiate TypedDict\n",
    "user: User = {'name': 'Alice', 'age': 30}\n",
    "print(user)"
   ]
  },
  {
   "cell_type": "markdown",
   "id": "7db86720",
   "metadata": {},
   "source": [
    "## 2. Union & Optional\n",
    "\n",
    "**Definitions & Use Cases:**\n",
    "- `Union[X, Y]` allows a value to be of type `X` or `Y`.\n",
    "- `Optional[T]` is shorthand for `Union[T, None]`."
   ]
  },
  {
   "cell_type": "code",
   "execution_count": null,
   "id": "9584bff1",
   "metadata": {},
   "outputs": [],
   "source": [
    "from typing import Union, Optional\n",
    "\n",
    "def square(x: Union[int, float]) -> float:\n",
    "    return x * x\n",
    "\n",
    "def greet(name: Optional[str]) -> str:\n",
    "    return f\"Hello {name}\" if name else \"Hello Stranger\"\n",
    "\n",
    "print(square(5))\n",
    "print(greet(None))"
   ]
  },
  {
   "cell_type": "markdown",
   "id": "64ea886d",
   "metadata": {},
   "source": [
    "## 3. Any & lambda\n",
    "\n",
    "**When to use each:**\n",
    "- `Any` when the type cannot be determined or is truly dynamic.\n",
    "- `lambda` for small anonymous functions, often as callbacks."
   ]
  },
  {
   "cell_type": "code",
   "execution_count": null,
   "id": "fb3aee6a",
   "metadata": {},
   "outputs": [],
   "source": [
    "from typing import Any\n",
    "\n",
    "def print_value(x: Any) -> None:\n",
    "    print(x)\n",
    "\n",
    "items = [1, 2, 3]\n",
    "squared = list(map(lambda x: x * x, items))\n",
    "print_value(squared)"
   ]
  },
  {
   "cell_type": "markdown",
   "id": "9611ced5",
   "metadata": {},
   "source": [
    "## Exercise\n",
    "\n",
    "Define a `TypedDict` for a Movie with `title: str` and `year: int`."
   ]
  },
  {
   "cell_type": "code",
   "execution_count": null,
   "id": "096ad74e",
   "metadata": {},
   "outputs": [],
   "source": [
    "# Student solution\n",
    "movie = {'title': 'The Matrix', 'year': 1999}\n",
    "print(movie)"
   ]
  },
  {
   "cell_type": "code",
   "execution_count": null,
   "id": "8114b0f6",
   "metadata": {},
   "outputs": [],
   "source": [
    "# Reference solution\n",
    "from typing import TypedDict\n",
    "\n",
    "class Movie(TypedDict):\n",
    "    title: str\n",
    "    year: int\n",
    "\n",
    "movie: Movie = {'title': 'The Matrix', 'year': 1999}\n",
    "print(movie)"
   ]
  },
  {
   "cell_type": "code",
   "execution_count": null,
   "id": "3245ac8b",
   "metadata": {},
   "outputs": [],
   "source": [
    "# Validation assertions\n",
    "from typing import TypedDict\n",
    "class Movie(TypedDict):\n",
    "    title: str\n",
    "    year: int\n",
    "movie_ref: Movie = {'title': 'Inception', 'year': 2010}\n",
    "assert isinstance(movie_ref['title'], str)\n",
    "assert isinstance(movie_ref['year'], int)\n",
    "print('All assertions passed.')"
   ]
  }
 ],
 "metadata": {
  "language_info": {
   "name": "python"
  }
 },
 "nbformat": 4,
 "nbformat_minor": 5
}
