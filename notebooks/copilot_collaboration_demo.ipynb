{
 "cells": [
  {
   "cell_type": "markdown",
   "id": "36b1d58a",
   "metadata": {},
   "source": [
    "# Copilot Collaboration Demo: Building a Python Notebook Together\n",
    "\n",
    "This notebook demonstrates how GitHub Copilot and a human developer can collaborate to build a Python notebook in VS Code. We will:\n",
    "- Document our workflow\n",
    "- Import essential libraries\n",
    "- Define and run a simple function\n",
    "- Showcase Copilot's assistance\n",
    "\n",
    "Let's get started!"
   ]
  },
  {
   "cell_type": "markdown",
   "id": "ea401242",
   "metadata": {},
   "source": [
    "## Collaborative Workflow Steps\n",
    "\n",
    "1. Import essential Python libraries\n",
    "2. Define a simple function\n",
    "3. Use Copilot to assist with code generation\n",
    "4. Run and display output\n",
    "\n",
    "Each step will be documented and demonstrated below."
   ]
  },
  {
   "cell_type": "code",
   "execution_count": null,
   "id": "d07fafb8",
   "metadata": {
    "vscode": {
     "languageId": "code"
    }
   },
   "outputs": [],
   "source": [
    "# Step 1: Import essential Python libraries\n",
    "import numpy as np\n",
    "import pandas as pd\n",
    "\n",
    "print('Libraries imported: numpy, pandas')"
   ]
  },
  {
   "cell_type": "markdown",
   "id": "a3386e12",
   "metadata": {},
   "source": [
    "## Step 2: Define a Simple Function\n",
    "\n",
    "Let's define a function to compute the mean of a list of numbers. Copilot will assist in generating the code."
   ]
  },
  {
   "cell_type": "code",
   "execution_count": null,
   "id": "8797cfda",
   "metadata": {
    "vscode": {
     "languageId": "code"
    }
   },
   "outputs": [],
   "source": [
    "def compute_mean(numbers: list[float]) -> float:\n",
    "    \"\"\"Compute the mean of a list of numbers.\"\"\"\n",
    "    if not numbers:\n",
    "        raise ValueError('List is empty')\n",
    "    return sum(numbers) / len(numbers)\n",
    "\n",
    "# Example usage\n",
    "sample = [1, 2, 3, 4, 5]\n",
    "mean = compute_mean(sample)\n",
    "print(f\"Mean of {sample}: {mean}\")"
   ]
  },
  {
   "cell_type": "markdown",
   "id": "51ff985d",
   "metadata": {},
   "source": [
    "## Step 3: Copilot Assistance\n",
    "\n",
    "The function above was generated with Copilot's help. Copilot suggested the function signature, type hints, and error handling, making the process faster and more reliable."
   ]
  },
  {
   "cell_type": "markdown",
   "id": "986b747b",
   "metadata": {},
   "source": [
    "## Step 4: Output and Next Steps\n",
    "\n",
    "The output above shows the result of our collaborative function. You can now extend this notebook with more data analysis, visualizations, or additional Copilot-assisted code. \n",
    "\n",
    "Feel free to continue building and experimenting!"
   ]
  }
 ],
 "metadata": {
  "language_info": {
   "name": "python"
  }
 },
 "nbformat": 4,
 "nbformat_minor": 5
}
